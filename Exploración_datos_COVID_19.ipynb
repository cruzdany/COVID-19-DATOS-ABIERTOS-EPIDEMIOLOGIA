{
  "nbformat": 4,
  "nbformat_minor": 0,
  "metadata": {
    "colab": {
      "name": "Exploración datos COVID-19.ipynb",
      "provenance": [],
      "authorship_tag": "ABX9TyPCCHRixS7QX5AnVkDxyAez",
      "include_colab_link": true
    },
    "kernelspec": {
      "name": "python3",
      "display_name": "Python 3"
    }
  },
  "cells": [
    {
      "cell_type": "markdown",
      "metadata": {
        "id": "view-in-github",
        "colab_type": "text"
      },
      "source": [
        "<a href=\"https://colab.research.google.com/github/cruzdany/COVID-19-DATOS-ABIERTOS-EPIDEMIOLOGIA/blob/main/Exploraci%C3%B3n_datos_COVID_19.ipynb\" target=\"_parent\"><img src=\"https://colab.research.google.com/assets/colab-badge.svg\" alt=\"Open In Colab\"/></a>"
      ]
    },
    {
      "cell_type": "code",
      "metadata": {
        "id": "3n5yDu9z4C5h"
      },
      "source": [
        "from glob import glob\r\n",
        "import pandas as pd\r\n",
        "import matplotlib.pyplot as plt"
      ],
      "execution_count": 24,
      "outputs": []
    },
    {
      "cell_type": "code",
      "metadata": {
        "colab": {
          "base_uri": "https://localhost:8080/"
        },
        "id": "QW0-8OhK4XEC",
        "outputId": "5c217b74-9d67-48c1-84a6-06135c9d4844"
      },
      "source": [
        "glob('*.csv')"
      ],
      "execution_count": 7,
      "outputs": [
        {
          "output_type": "execute_result",
          "data": {
            "text/plain": [
              "['210129COVID19MEXICO.csv']"
            ]
          },
          "metadata": {
            "tags": []
          },
          "execution_count": 7
        }
      ]
    },
    {
      "cell_type": "code",
      "metadata": {
        "id": "QZQDqyvu7D0f"
      },
      "source": [
        "df = pd.read_csv('210129COVID19MEXICO.csv', engine=\"python\")"
      ],
      "execution_count": 14,
      "outputs": []
    },
    {
      "cell_type": "code",
      "metadata": {
        "colab": {
          "base_uri": "https://localhost:8080/",
          "height": 444
        },
        "id": "9GyENUYD7JNJ",
        "outputId": "d39ce579-99ad-4be1-a6d5-bc38b12d4d9e"
      },
      "source": [
        "df"
      ],
      "execution_count": 15,
      "outputs": [
        {
          "output_type": "execute_result",
          "data": {
            "text/html": [
              "<div>\n",
              "<style scoped>\n",
              "    .dataframe tbody tr th:only-of-type {\n",
              "        vertical-align: middle;\n",
              "    }\n",
              "\n",
              "    .dataframe tbody tr th {\n",
              "        vertical-align: top;\n",
              "    }\n",
              "\n",
              "    .dataframe thead th {\n",
              "        text-align: right;\n",
              "    }\n",
              "</style>\n",
              "<table border=\"1\" class=\"dataframe\">\n",
              "  <thead>\n",
              "    <tr style=\"text-align: right;\">\n",
              "      <th></th>\n",
              "      <th>FECHA_ACTUALIZACION</th>\n",
              "      <th>ID_REGISTRO</th>\n",
              "      <th>ORIGEN</th>\n",
              "      <th>SECTOR</th>\n",
              "      <th>ENTIDAD_UM</th>\n",
              "      <th>SEXO</th>\n",
              "      <th>ENTIDAD_NAC</th>\n",
              "      <th>ENTIDAD_RES</th>\n",
              "      <th>MUNICIPIO_RES</th>\n",
              "      <th>TIPO_PACIENTE</th>\n",
              "      <th>FECHA_INGRESO</th>\n",
              "      <th>FECHA_SINTOMAS</th>\n",
              "      <th>FECHA_DEF</th>\n",
              "      <th>INTUBADO</th>\n",
              "      <th>NEUMONIA</th>\n",
              "      <th>EDAD</th>\n",
              "      <th>NACIONALIDAD</th>\n",
              "      <th>EMBARAZO</th>\n",
              "      <th>HABLA_LENGUA_INDIG</th>\n",
              "      <th>INDIGENA</th>\n",
              "      <th>DIABETES</th>\n",
              "      <th>EPOC</th>\n",
              "      <th>ASMA</th>\n",
              "      <th>INMUSUPR</th>\n",
              "      <th>HIPERTENSION</th>\n",
              "      <th>OTRA_COM</th>\n",
              "      <th>CARDIOVASCULAR</th>\n",
              "      <th>OBESIDAD</th>\n",
              "      <th>RENAL_CRONICA</th>\n",
              "      <th>TABAQUISMO</th>\n",
              "      <th>OTRO_CASO</th>\n",
              "      <th>TOMA_MUESTRA_LAB</th>\n",
              "      <th>RESULTADO_LAB</th>\n",
              "      <th>TOMA_MUESTRA_ANTIGENO</th>\n",
              "      <th>RESULTADO_ANTIGENO</th>\n",
              "      <th>CLASIFICACION_FINAL</th>\n",
              "      <th>MIGRANTE</th>\n",
              "      <th>PAIS_NACIONALIDAD</th>\n",
              "      <th>PAIS_ORIGEN</th>\n",
              "      <th>UCI</th>\n",
              "    </tr>\n",
              "  </thead>\n",
              "  <tbody>\n",
              "    <tr>\n",
              "      <th>0</th>\n",
              "      <td>2021-01-29</td>\n",
              "      <td>z482b8</td>\n",
              "      <td>1</td>\n",
              "      <td>12</td>\n",
              "      <td>9</td>\n",
              "      <td>2</td>\n",
              "      <td>9</td>\n",
              "      <td>9</td>\n",
              "      <td>12</td>\n",
              "      <td>1</td>\n",
              "      <td>2020-10-16</td>\n",
              "      <td>2020-10-16</td>\n",
              "      <td>9999-99-99</td>\n",
              "      <td>97</td>\n",
              "      <td>2</td>\n",
              "      <td>41</td>\n",
              "      <td>1</td>\n",
              "      <td>97</td>\n",
              "      <td>99</td>\n",
              "      <td>99</td>\n",
              "      <td>2</td>\n",
              "      <td>2</td>\n",
              "      <td>2</td>\n",
              "      <td>2</td>\n",
              "      <td>2</td>\n",
              "      <td>2</td>\n",
              "      <td>2</td>\n",
              "      <td>2</td>\n",
              "      <td>2</td>\n",
              "      <td>2</td>\n",
              "      <td>2</td>\n",
              "      <td>2</td>\n",
              "      <td>97</td>\n",
              "      <td>2</td>\n",
              "      <td>97</td>\n",
              "      <td>1</td>\n",
              "      <td>99</td>\n",
              "      <td>México</td>\n",
              "      <td>97</td>\n",
              "      <td>97</td>\n",
              "    </tr>\n",
              "    <tr>\n",
              "      <th>1</th>\n",
              "      <td>2021-01-29</td>\n",
              "      <td>z49a69</td>\n",
              "      <td>1</td>\n",
              "      <td>12</td>\n",
              "      <td>23</td>\n",
              "      <td>1</td>\n",
              "      <td>23</td>\n",
              "      <td>23</td>\n",
              "      <td>4</td>\n",
              "      <td>2</td>\n",
              "      <td>2020-07-20</td>\n",
              "      <td>2020-07-17</td>\n",
              "      <td>2020-07-21</td>\n",
              "      <td>1</td>\n",
              "      <td>1</td>\n",
              "      <td>66</td>\n",
              "      <td>1</td>\n",
              "      <td>2</td>\n",
              "      <td>2</td>\n",
              "      <td>2</td>\n",
              "      <td>1</td>\n",
              "      <td>2</td>\n",
              "      <td>2</td>\n",
              "      <td>2</td>\n",
              "      <td>1</td>\n",
              "      <td>2</td>\n",
              "      <td>2</td>\n",
              "      <td>1</td>\n",
              "      <td>2</td>\n",
              "      <td>2</td>\n",
              "      <td>1</td>\n",
              "      <td>2</td>\n",
              "      <td>97</td>\n",
              "      <td>2</td>\n",
              "      <td>97</td>\n",
              "      <td>2</td>\n",
              "      <td>99</td>\n",
              "      <td>México</td>\n",
              "      <td>97</td>\n",
              "      <td>1</td>\n",
              "    </tr>\n",
              "    <tr>\n",
              "      <th>2</th>\n",
              "      <td>2021-01-29</td>\n",
              "      <td>z23d9d</td>\n",
              "      <td>1</td>\n",
              "      <td>12</td>\n",
              "      <td>22</td>\n",
              "      <td>2</td>\n",
              "      <td>24</td>\n",
              "      <td>22</td>\n",
              "      <td>9</td>\n",
              "      <td>1</td>\n",
              "      <td>2021-01-05</td>\n",
              "      <td>2021-01-05</td>\n",
              "      <td>9999-99-99</td>\n",
              "      <td>97</td>\n",
              "      <td>2</td>\n",
              "      <td>29</td>\n",
              "      <td>1</td>\n",
              "      <td>97</td>\n",
              "      <td>2</td>\n",
              "      <td>2</td>\n",
              "      <td>2</td>\n",
              "      <td>2</td>\n",
              "      <td>2</td>\n",
              "      <td>2</td>\n",
              "      <td>2</td>\n",
              "      <td>2</td>\n",
              "      <td>2</td>\n",
              "      <td>98</td>\n",
              "      <td>2</td>\n",
              "      <td>2</td>\n",
              "      <td>2</td>\n",
              "      <td>2</td>\n",
              "      <td>97</td>\n",
              "      <td>2</td>\n",
              "      <td>97</td>\n",
              "      <td>6</td>\n",
              "      <td>99</td>\n",
              "      <td>México</td>\n",
              "      <td>97</td>\n",
              "      <td>97</td>\n",
              "    </tr>\n",
              "    <tr>\n",
              "      <th>3</th>\n",
              "      <td>2021-01-29</td>\n",
              "      <td>z24953</td>\n",
              "      <td>1</td>\n",
              "      <td>12</td>\n",
              "      <td>9</td>\n",
              "      <td>1</td>\n",
              "      <td>9</td>\n",
              "      <td>9</td>\n",
              "      <td>10</td>\n",
              "      <td>1</td>\n",
              "      <td>2020-10-15</td>\n",
              "      <td>2020-10-15</td>\n",
              "      <td>9999-99-99</td>\n",
              "      <td>97</td>\n",
              "      <td>2</td>\n",
              "      <td>40</td>\n",
              "      <td>1</td>\n",
              "      <td>98</td>\n",
              "      <td>99</td>\n",
              "      <td>99</td>\n",
              "      <td>2</td>\n",
              "      <td>2</td>\n",
              "      <td>2</td>\n",
              "      <td>2</td>\n",
              "      <td>2</td>\n",
              "      <td>2</td>\n",
              "      <td>2</td>\n",
              "      <td>2</td>\n",
              "      <td>2</td>\n",
              "      <td>2</td>\n",
              "      <td>1</td>\n",
              "      <td>1</td>\n",
              "      <td>2</td>\n",
              "      <td>2</td>\n",
              "      <td>97</td>\n",
              "      <td>7</td>\n",
              "      <td>99</td>\n",
              "      <td>México</td>\n",
              "      <td>97</td>\n",
              "      <td>97</td>\n",
              "    </tr>\n",
              "    <tr>\n",
              "      <th>4</th>\n",
              "      <td>2021-01-29</td>\n",
              "      <td>zz8e77</td>\n",
              "      <td>1</td>\n",
              "      <td>12</td>\n",
              "      <td>9</td>\n",
              "      <td>2</td>\n",
              "      <td>9</td>\n",
              "      <td>9</td>\n",
              "      <td>2</td>\n",
              "      <td>1</td>\n",
              "      <td>2020-04-16</td>\n",
              "      <td>2020-04-10</td>\n",
              "      <td>9999-99-99</td>\n",
              "      <td>97</td>\n",
              "      <td>2</td>\n",
              "      <td>34</td>\n",
              "      <td>1</td>\n",
              "      <td>97</td>\n",
              "      <td>2</td>\n",
              "      <td>2</td>\n",
              "      <td>2</td>\n",
              "      <td>1</td>\n",
              "      <td>1</td>\n",
              "      <td>2</td>\n",
              "      <td>2</td>\n",
              "      <td>2</td>\n",
              "      <td>2</td>\n",
              "      <td>2</td>\n",
              "      <td>2</td>\n",
              "      <td>2</td>\n",
              "      <td>2</td>\n",
              "      <td>2</td>\n",
              "      <td>97</td>\n",
              "      <td>2</td>\n",
              "      <td>97</td>\n",
              "      <td>6</td>\n",
              "      <td>99</td>\n",
              "      <td>México</td>\n",
              "      <td>97</td>\n",
              "      <td>97</td>\n",
              "    </tr>\n",
              "    <tr>\n",
              "      <th>...</th>\n",
              "      <td>...</td>\n",
              "      <td>...</td>\n",
              "      <td>...</td>\n",
              "      <td>...</td>\n",
              "      <td>...</td>\n",
              "      <td>...</td>\n",
              "      <td>...</td>\n",
              "      <td>...</td>\n",
              "      <td>...</td>\n",
              "      <td>...</td>\n",
              "      <td>...</td>\n",
              "      <td>...</td>\n",
              "      <td>...</td>\n",
              "      <td>...</td>\n",
              "      <td>...</td>\n",
              "      <td>...</td>\n",
              "      <td>...</td>\n",
              "      <td>...</td>\n",
              "      <td>...</td>\n",
              "      <td>...</td>\n",
              "      <td>...</td>\n",
              "      <td>...</td>\n",
              "      <td>...</td>\n",
              "      <td>...</td>\n",
              "      <td>...</td>\n",
              "      <td>...</td>\n",
              "      <td>...</td>\n",
              "      <td>...</td>\n",
              "      <td>...</td>\n",
              "      <td>...</td>\n",
              "      <td>...</td>\n",
              "      <td>...</td>\n",
              "      <td>...</td>\n",
              "      <td>...</td>\n",
              "      <td>...</td>\n",
              "      <td>...</td>\n",
              "      <td>...</td>\n",
              "      <td>...</td>\n",
              "      <td>...</td>\n",
              "      <td>...</td>\n",
              "    </tr>\n",
              "    <tr>\n",
              "      <th>4642534</th>\n",
              "      <td>2021-01-29</td>\n",
              "      <td>7730e2</td>\n",
              "      <td>2</td>\n",
              "      <td>9</td>\n",
              "      <td>21</td>\n",
              "      <td>1</td>\n",
              "      <td>15</td>\n",
              "      <td>21</td>\n",
              "      <td>114</td>\n",
              "      <td>1</td>\n",
              "      <td>2021-01-29</td>\n",
              "      <td>2021-01-29</td>\n",
              "      <td>9999-99-99</td>\n",
              "      <td>97</td>\n",
              "      <td>2</td>\n",
              "      <td>25</td>\n",
              "      <td>1</td>\n",
              "      <td>2</td>\n",
              "      <td>2</td>\n",
              "      <td>2</td>\n",
              "      <td>98</td>\n",
              "      <td>98</td>\n",
              "      <td>98</td>\n",
              "      <td>98</td>\n",
              "      <td>98</td>\n",
              "      <td>98</td>\n",
              "      <td>98</td>\n",
              "      <td>98</td>\n",
              "      <td>98</td>\n",
              "      <td>98</td>\n",
              "      <td>2</td>\n",
              "      <td>1</td>\n",
              "      <td>3</td>\n",
              "      <td>2</td>\n",
              "      <td>97</td>\n",
              "      <td>6</td>\n",
              "      <td>99</td>\n",
              "      <td>México</td>\n",
              "      <td>97</td>\n",
              "      <td>97</td>\n",
              "    </tr>\n",
              "    <tr>\n",
              "      <th>4642535</th>\n",
              "      <td>2021-01-29</td>\n",
              "      <td>740133</td>\n",
              "      <td>1</td>\n",
              "      <td>4</td>\n",
              "      <td>1</td>\n",
              "      <td>2</td>\n",
              "      <td>1</td>\n",
              "      <td>1</td>\n",
              "      <td>11</td>\n",
              "      <td>1</td>\n",
              "      <td>2021-01-29</td>\n",
              "      <td>2021-01-19</td>\n",
              "      <td>9999-99-99</td>\n",
              "      <td>97</td>\n",
              "      <td>2</td>\n",
              "      <td>41</td>\n",
              "      <td>1</td>\n",
              "      <td>97</td>\n",
              "      <td>2</td>\n",
              "      <td>2</td>\n",
              "      <td>98</td>\n",
              "      <td>98</td>\n",
              "      <td>98</td>\n",
              "      <td>98</td>\n",
              "      <td>98</td>\n",
              "      <td>98</td>\n",
              "      <td>98</td>\n",
              "      <td>98</td>\n",
              "      <td>98</td>\n",
              "      <td>98</td>\n",
              "      <td>2</td>\n",
              "      <td>2</td>\n",
              "      <td>97</td>\n",
              "      <td>2</td>\n",
              "      <td>97</td>\n",
              "      <td>6</td>\n",
              "      <td>99</td>\n",
              "      <td>México</td>\n",
              "      <td>97</td>\n",
              "      <td>97</td>\n",
              "    </tr>\n",
              "    <tr>\n",
              "      <th>4642536</th>\n",
              "      <td>2021-01-29</td>\n",
              "      <td>834896</td>\n",
              "      <td>2</td>\n",
              "      <td>4</td>\n",
              "      <td>11</td>\n",
              "      <td>2</td>\n",
              "      <td>11</td>\n",
              "      <td>11</td>\n",
              "      <td>20</td>\n",
              "      <td>1</td>\n",
              "      <td>2021-01-13</td>\n",
              "      <td>2021-01-07</td>\n",
              "      <td>9999-99-99</td>\n",
              "      <td>97</td>\n",
              "      <td>2</td>\n",
              "      <td>22</td>\n",
              "      <td>1</td>\n",
              "      <td>97</td>\n",
              "      <td>2</td>\n",
              "      <td>2</td>\n",
              "      <td>98</td>\n",
              "      <td>98</td>\n",
              "      <td>98</td>\n",
              "      <td>98</td>\n",
              "      <td>98</td>\n",
              "      <td>98</td>\n",
              "      <td>98</td>\n",
              "      <td>98</td>\n",
              "      <td>98</td>\n",
              "      <td>98</td>\n",
              "      <td>1</td>\n",
              "      <td>2</td>\n",
              "      <td>97</td>\n",
              "      <td>1</td>\n",
              "      <td>2</td>\n",
              "      <td>7</td>\n",
              "      <td>99</td>\n",
              "      <td>México</td>\n",
              "      <td>97</td>\n",
              "      <td>97</td>\n",
              "    </tr>\n",
              "    <tr>\n",
              "      <th>4642537</th>\n",
              "      <td>2021-01-29</td>\n",
              "      <td>5bd476</td>\n",
              "      <td>1</td>\n",
              "      <td>5</td>\n",
              "      <td>16</td>\n",
              "      <td>2</td>\n",
              "      <td>16</td>\n",
              "      <td>16</td>\n",
              "      <td>9</td>\n",
              "      <td>1</td>\n",
              "      <td>2021-01-29</td>\n",
              "      <td>2021-01-27</td>\n",
              "      <td>9999-99-99</td>\n",
              "      <td>97</td>\n",
              "      <td>2</td>\n",
              "      <td>30</td>\n",
              "      <td>1</td>\n",
              "      <td>97</td>\n",
              "      <td>2</td>\n",
              "      <td>2</td>\n",
              "      <td>98</td>\n",
              "      <td>98</td>\n",
              "      <td>98</td>\n",
              "      <td>98</td>\n",
              "      <td>98</td>\n",
              "      <td>98</td>\n",
              "      <td>98</td>\n",
              "      <td>98</td>\n",
              "      <td>98</td>\n",
              "      <td>98</td>\n",
              "      <td>1</td>\n",
              "      <td>2</td>\n",
              "      <td>97</td>\n",
              "      <td>1</td>\n",
              "      <td>1</td>\n",
              "      <td>3</td>\n",
              "      <td>99</td>\n",
              "      <td>México</td>\n",
              "      <td>97</td>\n",
              "      <td>97</td>\n",
              "    </tr>\n",
              "    <tr>\n",
              "      <th>4642538</th>\n",
              "      <td>2021-01-29</td>\n",
              "      <td>9fb9d2</td>\n",
              "      <td>2</td>\n",
              "      <td>4</td>\n",
              "      <td>16</td>\n",
              "      <td>2</td>\n",
              "      <td>16</td>\n",
              "      <td>16</td>\n",
              "      <td>102</td>\n",
              "      <td>1</td>\n",
              "      <td>2021-01-28</td>\n",
              "      <td>2021-01-21</td>\n",
              "      <td>9999-99-99</td>\n",
              "      <td>97</td>\n",
              "      <td>2</td>\n",
              "      <td>31</td>\n",
              "      <td>1</td>\n",
              "      <td>97</td>\n",
              "      <td>2</td>\n",
              "      <td>2</td>\n",
              "      <td>98</td>\n",
              "      <td>98</td>\n",
              "      <td>98</td>\n",
              "      <td>98</td>\n",
              "      <td>98</td>\n",
              "      <td>98</td>\n",
              "      <td>98</td>\n",
              "      <td>98</td>\n",
              "      <td>98</td>\n",
              "      <td>98</td>\n",
              "      <td>1</td>\n",
              "      <td>2</td>\n",
              "      <td>97</td>\n",
              "      <td>1</td>\n",
              "      <td>1</td>\n",
              "      <td>3</td>\n",
              "      <td>99</td>\n",
              "      <td>México</td>\n",
              "      <td>97</td>\n",
              "      <td>97</td>\n",
              "    </tr>\n",
              "  </tbody>\n",
              "</table>\n",
              "<p>4642539 rows × 40 columns</p>\n",
              "</div>"
            ],
            "text/plain": [
              "        FECHA_ACTUALIZACION ID_REGISTRO  ...  PAIS_ORIGEN  UCI\n",
              "0                2021-01-29      z482b8  ...           97   97\n",
              "1                2021-01-29      z49a69  ...           97    1\n",
              "2                2021-01-29      z23d9d  ...           97   97\n",
              "3                2021-01-29      z24953  ...           97   97\n",
              "4                2021-01-29      zz8e77  ...           97   97\n",
              "...                     ...         ...  ...          ...  ...\n",
              "4642534          2021-01-29      7730e2  ...           97   97\n",
              "4642535          2021-01-29      740133  ...           97   97\n",
              "4642536          2021-01-29      834896  ...           97   97\n",
              "4642537          2021-01-29      5bd476  ...           97   97\n",
              "4642538          2021-01-29      9fb9d2  ...           97   97\n",
              "\n",
              "[4642539 rows x 40 columns]"
            ]
          },
          "metadata": {
            "tags": []
          },
          "execution_count": 15
        }
      ]
    },
    {
      "cell_type": "code",
      "metadata": {
        "colab": {
          "base_uri": "https://localhost:8080/"
        },
        "id": "MVQOtjHD73ko",
        "outputId": "448a1b12-b7ac-4729-d838-d5c73e5d5d94"
      },
      "source": [
        "df.shape"
      ],
      "execution_count": 16,
      "outputs": [
        {
          "output_type": "execute_result",
          "data": {
            "text/plain": [
              "(4642539, 40)"
            ]
          },
          "metadata": {
            "tags": []
          },
          "execution_count": 16
        }
      ]
    },
    {
      "cell_type": "code",
      "metadata": {
        "colab": {
          "base_uri": "https://localhost:8080/",
          "height": 320
        },
        "id": "e_d14NmL-NC9",
        "outputId": "240b39c2-eab7-4ade-8b3e-6bc8fd4d1d03"
      },
      "source": [
        "df.describe()"
      ],
      "execution_count": 17,
      "outputs": [
        {
          "output_type": "execute_result",
          "data": {
            "text/html": [
              "<div>\n",
              "<style scoped>\n",
              "    .dataframe tbody tr th:only-of-type {\n",
              "        vertical-align: middle;\n",
              "    }\n",
              "\n",
              "    .dataframe tbody tr th {\n",
              "        vertical-align: top;\n",
              "    }\n",
              "\n",
              "    .dataframe thead th {\n",
              "        text-align: right;\n",
              "    }\n",
              "</style>\n",
              "<table border=\"1\" class=\"dataframe\">\n",
              "  <thead>\n",
              "    <tr style=\"text-align: right;\">\n",
              "      <th></th>\n",
              "      <th>ORIGEN</th>\n",
              "      <th>SECTOR</th>\n",
              "      <th>ENTIDAD_UM</th>\n",
              "      <th>SEXO</th>\n",
              "      <th>ENTIDAD_NAC</th>\n",
              "      <th>ENTIDAD_RES</th>\n",
              "      <th>MUNICIPIO_RES</th>\n",
              "      <th>TIPO_PACIENTE</th>\n",
              "      <th>INTUBADO</th>\n",
              "      <th>NEUMONIA</th>\n",
              "      <th>EDAD</th>\n",
              "      <th>NACIONALIDAD</th>\n",
              "      <th>EMBARAZO</th>\n",
              "      <th>HABLA_LENGUA_INDIG</th>\n",
              "      <th>INDIGENA</th>\n",
              "      <th>DIABETES</th>\n",
              "      <th>EPOC</th>\n",
              "      <th>ASMA</th>\n",
              "      <th>INMUSUPR</th>\n",
              "      <th>HIPERTENSION</th>\n",
              "      <th>OTRA_COM</th>\n",
              "      <th>CARDIOVASCULAR</th>\n",
              "      <th>OBESIDAD</th>\n",
              "      <th>RENAL_CRONICA</th>\n",
              "      <th>TABAQUISMO</th>\n",
              "      <th>OTRO_CASO</th>\n",
              "      <th>TOMA_MUESTRA_LAB</th>\n",
              "      <th>RESULTADO_LAB</th>\n",
              "      <th>TOMA_MUESTRA_ANTIGENO</th>\n",
              "      <th>RESULTADO_ANTIGENO</th>\n",
              "      <th>CLASIFICACION_FINAL</th>\n",
              "      <th>MIGRANTE</th>\n",
              "      <th>UCI</th>\n",
              "    </tr>\n",
              "  </thead>\n",
              "  <tbody>\n",
              "    <tr>\n",
              "      <th>count</th>\n",
              "      <td>4.642539e+06</td>\n",
              "      <td>4.642539e+06</td>\n",
              "      <td>4.642539e+06</td>\n",
              "      <td>4.642539e+06</td>\n",
              "      <td>4.642539e+06</td>\n",
              "      <td>4.642539e+06</td>\n",
              "      <td>4.642539e+06</td>\n",
              "      <td>4.642539e+06</td>\n",
              "      <td>4.642539e+06</td>\n",
              "      <td>4.642539e+06</td>\n",
              "      <td>4.642539e+06</td>\n",
              "      <td>4.642539e+06</td>\n",
              "      <td>4.642539e+06</td>\n",
              "      <td>4.642539e+06</td>\n",
              "      <td>4.642539e+06</td>\n",
              "      <td>4.642539e+06</td>\n",
              "      <td>4.642539e+06</td>\n",
              "      <td>4.642539e+06</td>\n",
              "      <td>4.642539e+06</td>\n",
              "      <td>4.642539e+06</td>\n",
              "      <td>4.642539e+06</td>\n",
              "      <td>4.642539e+06</td>\n",
              "      <td>4.642539e+06</td>\n",
              "      <td>4.642539e+06</td>\n",
              "      <td>4.642539e+06</td>\n",
              "      <td>4.642539e+06</td>\n",
              "      <td>4.642539e+06</td>\n",
              "      <td>4.642539e+06</td>\n",
              "      <td>4.642539e+06</td>\n",
              "      <td>4.642539e+06</td>\n",
              "      <td>4.642539e+06</td>\n",
              "      <td>4.642539e+06</td>\n",
              "      <td>4.642539e+06</td>\n",
              "    </tr>\n",
              "    <tr>\n",
              "      <th>mean</th>\n",
              "      <td>1.693174e+00</td>\n",
              "      <td>9.428532e+00</td>\n",
              "      <td>1.415647e+01</td>\n",
              "      <td>1.481514e+00</td>\n",
              "      <td>1.523688e+01</td>\n",
              "      <td>1.447289e+01</td>\n",
              "      <td>3.206302e+01</td>\n",
              "      <td>1.126424e+00</td>\n",
              "      <td>8.512176e+01</td>\n",
              "      <td>2.286855e+00</td>\n",
              "      <td>4.115186e+01</td>\n",
              "      <td>1.004646e+00</td>\n",
              "      <td>4.807225e+01</td>\n",
              "      <td>6.607317e+00</td>\n",
              "      <td>6.518006e+00</td>\n",
              "      <td>2.137491e+00</td>\n",
              "      <td>2.211869e+00</td>\n",
              "      <td>2.192450e+00</td>\n",
              "      <td>2.216761e+00</td>\n",
              "      <td>2.080925e+00</td>\n",
              "      <td>2.351010e+00</td>\n",
              "      <td>2.205427e+00</td>\n",
              "      <td>2.086734e+00</td>\n",
              "      <td>2.203668e+00</td>\n",
              "      <td>2.149159e+00</td>\n",
              "      <td>7.863436e+00</td>\n",
              "      <td>1.270520e+00</td>\n",
              "      <td>2.746284e+01</td>\n",
              "      <td>1.775055e+00</td>\n",
              "      <td>7.556710e+01</td>\n",
              "      <td>5.263282e+00</td>\n",
              "      <td>9.860556e+01</td>\n",
              "      <td>8.513649e+01</td>\n",
              "    </tr>\n",
              "    <tr>\n",
              "      <th>std</th>\n",
              "      <td>4.611766e-01</td>\n",
              "      <td>3.622806e+00</td>\n",
              "      <td>7.803306e+00</td>\n",
              "      <td>4.996582e-01</td>\n",
              "      <td>9.640592e+00</td>\n",
              "      <td>7.736301e+00</td>\n",
              "      <td>4.387305e+01</td>\n",
              "      <td>3.323268e-01</td>\n",
              "      <td>3.144884e+01</td>\n",
              "      <td>6.040482e+00</td>\n",
              "      <td>1.685353e+01</td>\n",
              "      <td>6.799955e-02</td>\n",
              "      <td>4.748971e+01</td>\n",
              "      <td>2.064691e+01</td>\n",
              "      <td>2.046170e+01</td>\n",
              "      <td>4.839191e+00</td>\n",
              "      <td>4.610145e+00</td>\n",
              "      <td>4.566340e+00</td>\n",
              "      <td>4.650974e+00</td>\n",
              "      <td>4.645555e+00</td>\n",
              "      <td>5.946545e+00</td>\n",
              "      <td>4.594576e+00</td>\n",
              "      <td>4.530714e+00</td>\n",
              "      <td>4.563307e+00</td>\n",
              "      <td>4.718417e+00</td>\n",
              "      <td>2.406600e+01</td>\n",
              "      <td>4.442283e-01</td>\n",
              "      <td>4.235035e+01</td>\n",
              "      <td>4.175464e-01</td>\n",
              "      <td>3.978458e+01</td>\n",
              "      <td>1.966267e+00</td>\n",
              "      <td>6.180874e+00</td>\n",
              "      <td>3.142480e+01</td>\n",
              "    </tr>\n",
              "    <tr>\n",
              "      <th>min</th>\n",
              "      <td>1.000000e+00</td>\n",
              "      <td>1.000000e+00</td>\n",
              "      <td>1.000000e+00</td>\n",
              "      <td>1.000000e+00</td>\n",
              "      <td>1.000000e+00</td>\n",
              "      <td>1.000000e+00</td>\n",
              "      <td>1.000000e+00</td>\n",
              "      <td>1.000000e+00</td>\n",
              "      <td>1.000000e+00</td>\n",
              "      <td>1.000000e+00</td>\n",
              "      <td>0.000000e+00</td>\n",
              "      <td>1.000000e+00</td>\n",
              "      <td>1.000000e+00</td>\n",
              "      <td>1.000000e+00</td>\n",
              "      <td>1.000000e+00</td>\n",
              "      <td>1.000000e+00</td>\n",
              "      <td>1.000000e+00</td>\n",
              "      <td>1.000000e+00</td>\n",
              "      <td>1.000000e+00</td>\n",
              "      <td>1.000000e+00</td>\n",
              "      <td>1.000000e+00</td>\n",
              "      <td>1.000000e+00</td>\n",
              "      <td>1.000000e+00</td>\n",
              "      <td>1.000000e+00</td>\n",
              "      <td>1.000000e+00</td>\n",
              "      <td>1.000000e+00</td>\n",
              "      <td>1.000000e+00</td>\n",
              "      <td>1.000000e+00</td>\n",
              "      <td>1.000000e+00</td>\n",
              "      <td>1.000000e+00</td>\n",
              "      <td>1.000000e+00</td>\n",
              "      <td>1.000000e+00</td>\n",
              "      <td>1.000000e+00</td>\n",
              "    </tr>\n",
              "    <tr>\n",
              "      <th>25%</th>\n",
              "      <td>1.000000e+00</td>\n",
              "      <td>4.000000e+00</td>\n",
              "      <td>9.000000e+00</td>\n",
              "      <td>1.000000e+00</td>\n",
              "      <td>9.000000e+00</td>\n",
              "      <td>9.000000e+00</td>\n",
              "      <td>7.000000e+00</td>\n",
              "      <td>1.000000e+00</td>\n",
              "      <td>9.700000e+01</td>\n",
              "      <td>2.000000e+00</td>\n",
              "      <td>2.900000e+01</td>\n",
              "      <td>1.000000e+00</td>\n",
              "      <td>2.000000e+00</td>\n",
              "      <td>2.000000e+00</td>\n",
              "      <td>2.000000e+00</td>\n",
              "      <td>2.000000e+00</td>\n",
              "      <td>2.000000e+00</td>\n",
              "      <td>2.000000e+00</td>\n",
              "      <td>2.000000e+00</td>\n",
              "      <td>2.000000e+00</td>\n",
              "      <td>2.000000e+00</td>\n",
              "      <td>2.000000e+00</td>\n",
              "      <td>2.000000e+00</td>\n",
              "      <td>2.000000e+00</td>\n",
              "      <td>2.000000e+00</td>\n",
              "      <td>1.000000e+00</td>\n",
              "      <td>1.000000e+00</td>\n",
              "      <td>1.000000e+00</td>\n",
              "      <td>2.000000e+00</td>\n",
              "      <td>9.700000e+01</td>\n",
              "      <td>3.000000e+00</td>\n",
              "      <td>9.900000e+01</td>\n",
              "      <td>9.700000e+01</td>\n",
              "    </tr>\n",
              "    <tr>\n",
              "      <th>50%</th>\n",
              "      <td>2.000000e+00</td>\n",
              "      <td>1.200000e+01</td>\n",
              "      <td>1.100000e+01</td>\n",
              "      <td>1.000000e+00</td>\n",
              "      <td>1.300000e+01</td>\n",
              "      <td>1.200000e+01</td>\n",
              "      <td>1.600000e+01</td>\n",
              "      <td>1.000000e+00</td>\n",
              "      <td>9.700000e+01</td>\n",
              "      <td>2.000000e+00</td>\n",
              "      <td>4.000000e+01</td>\n",
              "      <td>1.000000e+00</td>\n",
              "      <td>2.000000e+00</td>\n",
              "      <td>2.000000e+00</td>\n",
              "      <td>2.000000e+00</td>\n",
              "      <td>2.000000e+00</td>\n",
              "      <td>2.000000e+00</td>\n",
              "      <td>2.000000e+00</td>\n",
              "      <td>2.000000e+00</td>\n",
              "      <td>2.000000e+00</td>\n",
              "      <td>2.000000e+00</td>\n",
              "      <td>2.000000e+00</td>\n",
              "      <td>2.000000e+00</td>\n",
              "      <td>2.000000e+00</td>\n",
              "      <td>2.000000e+00</td>\n",
              "      <td>2.000000e+00</td>\n",
              "      <td>1.000000e+00</td>\n",
              "      <td>2.000000e+00</td>\n",
              "      <td>2.000000e+00</td>\n",
              "      <td>9.700000e+01</td>\n",
              "      <td>7.000000e+00</td>\n",
              "      <td>9.900000e+01</td>\n",
              "      <td>9.700000e+01</td>\n",
              "    </tr>\n",
              "    <tr>\n",
              "      <th>75%</th>\n",
              "      <td>2.000000e+00</td>\n",
              "      <td>1.200000e+01</td>\n",
              "      <td>2.000000e+01</td>\n",
              "      <td>2.000000e+00</td>\n",
              "      <td>2.100000e+01</td>\n",
              "      <td>2.000000e+01</td>\n",
              "      <td>3.900000e+01</td>\n",
              "      <td>1.000000e+00</td>\n",
              "      <td>9.700000e+01</td>\n",
              "      <td>2.000000e+00</td>\n",
              "      <td>5.200000e+01</td>\n",
              "      <td>1.000000e+00</td>\n",
              "      <td>9.700000e+01</td>\n",
              "      <td>2.000000e+00</td>\n",
              "      <td>2.000000e+00</td>\n",
              "      <td>2.000000e+00</td>\n",
              "      <td>2.000000e+00</td>\n",
              "      <td>2.000000e+00</td>\n",
              "      <td>2.000000e+00</td>\n",
              "      <td>2.000000e+00</td>\n",
              "      <td>2.000000e+00</td>\n",
              "      <td>2.000000e+00</td>\n",
              "      <td>2.000000e+00</td>\n",
              "      <td>2.000000e+00</td>\n",
              "      <td>2.000000e+00</td>\n",
              "      <td>2.000000e+00</td>\n",
              "      <td>2.000000e+00</td>\n",
              "      <td>9.700000e+01</td>\n",
              "      <td>2.000000e+00</td>\n",
              "      <td>9.700000e+01</td>\n",
              "      <td>7.000000e+00</td>\n",
              "      <td>9.900000e+01</td>\n",
              "      <td>9.700000e+01</td>\n",
              "    </tr>\n",
              "    <tr>\n",
              "      <th>max</th>\n",
              "      <td>2.000000e+00</td>\n",
              "      <td>9.900000e+01</td>\n",
              "      <td>3.200000e+01</td>\n",
              "      <td>2.000000e+00</td>\n",
              "      <td>9.900000e+01</td>\n",
              "      <td>3.200000e+01</td>\n",
              "      <td>9.990000e+02</td>\n",
              "      <td>2.000000e+00</td>\n",
              "      <td>9.900000e+01</td>\n",
              "      <td>9.900000e+01</td>\n",
              "      <td>1.210000e+02</td>\n",
              "      <td>2.000000e+00</td>\n",
              "      <td>9.900000e+01</td>\n",
              "      <td>9.900000e+01</td>\n",
              "      <td>9.900000e+01</td>\n",
              "      <td>9.800000e+01</td>\n",
              "      <td>9.800000e+01</td>\n",
              "      <td>9.800000e+01</td>\n",
              "      <td>9.800000e+01</td>\n",
              "      <td>9.800000e+01</td>\n",
              "      <td>9.800000e+01</td>\n",
              "      <td>9.800000e+01</td>\n",
              "      <td>9.800000e+01</td>\n",
              "      <td>9.800000e+01</td>\n",
              "      <td>9.800000e+01</td>\n",
              "      <td>9.900000e+01</td>\n",
              "      <td>2.000000e+00</td>\n",
              "      <td>9.700000e+01</td>\n",
              "      <td>2.000000e+00</td>\n",
              "      <td>9.700000e+01</td>\n",
              "      <td>7.000000e+00</td>\n",
              "      <td>9.900000e+01</td>\n",
              "      <td>9.900000e+01</td>\n",
              "    </tr>\n",
              "  </tbody>\n",
              "</table>\n",
              "</div>"
            ],
            "text/plain": [
              "             ORIGEN        SECTOR  ...      MIGRANTE           UCI\n",
              "count  4.642539e+06  4.642539e+06  ...  4.642539e+06  4.642539e+06\n",
              "mean   1.693174e+00  9.428532e+00  ...  9.860556e+01  8.513649e+01\n",
              "std    4.611766e-01  3.622806e+00  ...  6.180874e+00  3.142480e+01\n",
              "min    1.000000e+00  1.000000e+00  ...  1.000000e+00  1.000000e+00\n",
              "25%    1.000000e+00  4.000000e+00  ...  9.900000e+01  9.700000e+01\n",
              "50%    2.000000e+00  1.200000e+01  ...  9.900000e+01  9.700000e+01\n",
              "75%    2.000000e+00  1.200000e+01  ...  9.900000e+01  9.700000e+01\n",
              "max    2.000000e+00  9.900000e+01  ...  9.900000e+01  9.900000e+01\n",
              "\n",
              "[8 rows x 33 columns]"
            ]
          },
          "metadata": {
            "tags": []
          },
          "execution_count": 17
        }
      ]
    },
    {
      "cell_type": "code",
      "metadata": {
        "id": "IQzpM9dM-OUx"
      },
      "source": [
        "df= df.rename(columns=str.lower)"
      ],
      "execution_count": 19,
      "outputs": []
    },
    {
      "cell_type": "code",
      "metadata": {
        "colab": {
          "base_uri": "https://localhost:8080/",
          "height": 226
        },
        "id": "wyxc_xvV-azh",
        "outputId": "807e1e26-4817-44e0-d106-b33d2fdf458f"
      },
      "source": [
        "df.head()"
      ],
      "execution_count": 20,
      "outputs": [
        {
          "output_type": "execute_result",
          "data": {
            "text/html": [
              "<div>\n",
              "<style scoped>\n",
              "    .dataframe tbody tr th:only-of-type {\n",
              "        vertical-align: middle;\n",
              "    }\n",
              "\n",
              "    .dataframe tbody tr th {\n",
              "        vertical-align: top;\n",
              "    }\n",
              "\n",
              "    .dataframe thead th {\n",
              "        text-align: right;\n",
              "    }\n",
              "</style>\n",
              "<table border=\"1\" class=\"dataframe\">\n",
              "  <thead>\n",
              "    <tr style=\"text-align: right;\">\n",
              "      <th></th>\n",
              "      <th>fecha_actualizacion</th>\n",
              "      <th>id_registro</th>\n",
              "      <th>origen</th>\n",
              "      <th>sector</th>\n",
              "      <th>entidad_um</th>\n",
              "      <th>sexo</th>\n",
              "      <th>entidad_nac</th>\n",
              "      <th>entidad_res</th>\n",
              "      <th>municipio_res</th>\n",
              "      <th>tipo_paciente</th>\n",
              "      <th>fecha_ingreso</th>\n",
              "      <th>fecha_sintomas</th>\n",
              "      <th>fecha_def</th>\n",
              "      <th>intubado</th>\n",
              "      <th>neumonia</th>\n",
              "      <th>edad</th>\n",
              "      <th>nacionalidad</th>\n",
              "      <th>embarazo</th>\n",
              "      <th>habla_lengua_indig</th>\n",
              "      <th>indigena</th>\n",
              "      <th>diabetes</th>\n",
              "      <th>epoc</th>\n",
              "      <th>asma</th>\n",
              "      <th>inmusupr</th>\n",
              "      <th>hipertension</th>\n",
              "      <th>otra_com</th>\n",
              "      <th>cardiovascular</th>\n",
              "      <th>obesidad</th>\n",
              "      <th>renal_cronica</th>\n",
              "      <th>tabaquismo</th>\n",
              "      <th>otro_caso</th>\n",
              "      <th>toma_muestra_lab</th>\n",
              "      <th>resultado_lab</th>\n",
              "      <th>toma_muestra_antigeno</th>\n",
              "      <th>resultado_antigeno</th>\n",
              "      <th>clasificacion_final</th>\n",
              "      <th>migrante</th>\n",
              "      <th>pais_nacionalidad</th>\n",
              "      <th>pais_origen</th>\n",
              "      <th>uci</th>\n",
              "    </tr>\n",
              "  </thead>\n",
              "  <tbody>\n",
              "    <tr>\n",
              "      <th>0</th>\n",
              "      <td>2021-01-29</td>\n",
              "      <td>z482b8</td>\n",
              "      <td>1</td>\n",
              "      <td>12</td>\n",
              "      <td>9</td>\n",
              "      <td>2</td>\n",
              "      <td>9</td>\n",
              "      <td>9</td>\n",
              "      <td>12</td>\n",
              "      <td>1</td>\n",
              "      <td>2020-10-16</td>\n",
              "      <td>2020-10-16</td>\n",
              "      <td>9999-99-99</td>\n",
              "      <td>97</td>\n",
              "      <td>2</td>\n",
              "      <td>41</td>\n",
              "      <td>1</td>\n",
              "      <td>97</td>\n",
              "      <td>99</td>\n",
              "      <td>99</td>\n",
              "      <td>2</td>\n",
              "      <td>2</td>\n",
              "      <td>2</td>\n",
              "      <td>2</td>\n",
              "      <td>2</td>\n",
              "      <td>2</td>\n",
              "      <td>2</td>\n",
              "      <td>2</td>\n",
              "      <td>2</td>\n",
              "      <td>2</td>\n",
              "      <td>2</td>\n",
              "      <td>2</td>\n",
              "      <td>97</td>\n",
              "      <td>2</td>\n",
              "      <td>97</td>\n",
              "      <td>1</td>\n",
              "      <td>99</td>\n",
              "      <td>México</td>\n",
              "      <td>97</td>\n",
              "      <td>97</td>\n",
              "    </tr>\n",
              "    <tr>\n",
              "      <th>1</th>\n",
              "      <td>2021-01-29</td>\n",
              "      <td>z49a69</td>\n",
              "      <td>1</td>\n",
              "      <td>12</td>\n",
              "      <td>23</td>\n",
              "      <td>1</td>\n",
              "      <td>23</td>\n",
              "      <td>23</td>\n",
              "      <td>4</td>\n",
              "      <td>2</td>\n",
              "      <td>2020-07-20</td>\n",
              "      <td>2020-07-17</td>\n",
              "      <td>2020-07-21</td>\n",
              "      <td>1</td>\n",
              "      <td>1</td>\n",
              "      <td>66</td>\n",
              "      <td>1</td>\n",
              "      <td>2</td>\n",
              "      <td>2</td>\n",
              "      <td>2</td>\n",
              "      <td>1</td>\n",
              "      <td>2</td>\n",
              "      <td>2</td>\n",
              "      <td>2</td>\n",
              "      <td>1</td>\n",
              "      <td>2</td>\n",
              "      <td>2</td>\n",
              "      <td>1</td>\n",
              "      <td>2</td>\n",
              "      <td>2</td>\n",
              "      <td>1</td>\n",
              "      <td>2</td>\n",
              "      <td>97</td>\n",
              "      <td>2</td>\n",
              "      <td>97</td>\n",
              "      <td>2</td>\n",
              "      <td>99</td>\n",
              "      <td>México</td>\n",
              "      <td>97</td>\n",
              "      <td>1</td>\n",
              "    </tr>\n",
              "    <tr>\n",
              "      <th>2</th>\n",
              "      <td>2021-01-29</td>\n",
              "      <td>z23d9d</td>\n",
              "      <td>1</td>\n",
              "      <td>12</td>\n",
              "      <td>22</td>\n",
              "      <td>2</td>\n",
              "      <td>24</td>\n",
              "      <td>22</td>\n",
              "      <td>9</td>\n",
              "      <td>1</td>\n",
              "      <td>2021-01-05</td>\n",
              "      <td>2021-01-05</td>\n",
              "      <td>9999-99-99</td>\n",
              "      <td>97</td>\n",
              "      <td>2</td>\n",
              "      <td>29</td>\n",
              "      <td>1</td>\n",
              "      <td>97</td>\n",
              "      <td>2</td>\n",
              "      <td>2</td>\n",
              "      <td>2</td>\n",
              "      <td>2</td>\n",
              "      <td>2</td>\n",
              "      <td>2</td>\n",
              "      <td>2</td>\n",
              "      <td>2</td>\n",
              "      <td>2</td>\n",
              "      <td>98</td>\n",
              "      <td>2</td>\n",
              "      <td>2</td>\n",
              "      <td>2</td>\n",
              "      <td>2</td>\n",
              "      <td>97</td>\n",
              "      <td>2</td>\n",
              "      <td>97</td>\n",
              "      <td>6</td>\n",
              "      <td>99</td>\n",
              "      <td>México</td>\n",
              "      <td>97</td>\n",
              "      <td>97</td>\n",
              "    </tr>\n",
              "    <tr>\n",
              "      <th>3</th>\n",
              "      <td>2021-01-29</td>\n",
              "      <td>z24953</td>\n",
              "      <td>1</td>\n",
              "      <td>12</td>\n",
              "      <td>9</td>\n",
              "      <td>1</td>\n",
              "      <td>9</td>\n",
              "      <td>9</td>\n",
              "      <td>10</td>\n",
              "      <td>1</td>\n",
              "      <td>2020-10-15</td>\n",
              "      <td>2020-10-15</td>\n",
              "      <td>9999-99-99</td>\n",
              "      <td>97</td>\n",
              "      <td>2</td>\n",
              "      <td>40</td>\n",
              "      <td>1</td>\n",
              "      <td>98</td>\n",
              "      <td>99</td>\n",
              "      <td>99</td>\n",
              "      <td>2</td>\n",
              "      <td>2</td>\n",
              "      <td>2</td>\n",
              "      <td>2</td>\n",
              "      <td>2</td>\n",
              "      <td>2</td>\n",
              "      <td>2</td>\n",
              "      <td>2</td>\n",
              "      <td>2</td>\n",
              "      <td>2</td>\n",
              "      <td>1</td>\n",
              "      <td>1</td>\n",
              "      <td>2</td>\n",
              "      <td>2</td>\n",
              "      <td>97</td>\n",
              "      <td>7</td>\n",
              "      <td>99</td>\n",
              "      <td>México</td>\n",
              "      <td>97</td>\n",
              "      <td>97</td>\n",
              "    </tr>\n",
              "    <tr>\n",
              "      <th>4</th>\n",
              "      <td>2021-01-29</td>\n",
              "      <td>zz8e77</td>\n",
              "      <td>1</td>\n",
              "      <td>12</td>\n",
              "      <td>9</td>\n",
              "      <td>2</td>\n",
              "      <td>9</td>\n",
              "      <td>9</td>\n",
              "      <td>2</td>\n",
              "      <td>1</td>\n",
              "      <td>2020-04-16</td>\n",
              "      <td>2020-04-10</td>\n",
              "      <td>9999-99-99</td>\n",
              "      <td>97</td>\n",
              "      <td>2</td>\n",
              "      <td>34</td>\n",
              "      <td>1</td>\n",
              "      <td>97</td>\n",
              "      <td>2</td>\n",
              "      <td>2</td>\n",
              "      <td>2</td>\n",
              "      <td>1</td>\n",
              "      <td>1</td>\n",
              "      <td>2</td>\n",
              "      <td>2</td>\n",
              "      <td>2</td>\n",
              "      <td>2</td>\n",
              "      <td>2</td>\n",
              "      <td>2</td>\n",
              "      <td>2</td>\n",
              "      <td>2</td>\n",
              "      <td>2</td>\n",
              "      <td>97</td>\n",
              "      <td>2</td>\n",
              "      <td>97</td>\n",
              "      <td>6</td>\n",
              "      <td>99</td>\n",
              "      <td>México</td>\n",
              "      <td>97</td>\n",
              "      <td>97</td>\n",
              "    </tr>\n",
              "  </tbody>\n",
              "</table>\n",
              "</div>"
            ],
            "text/plain": [
              "  fecha_actualizacion id_registro  origen  ...  pais_nacionalidad  pais_origen  uci\n",
              "0          2021-01-29      z482b8       1  ...             México           97   97\n",
              "1          2021-01-29      z49a69       1  ...             México           97    1\n",
              "2          2021-01-29      z23d9d       1  ...             México           97   97\n",
              "3          2021-01-29      z24953       1  ...             México           97   97\n",
              "4          2021-01-29      zz8e77       1  ...             México           97   97\n",
              "\n",
              "[5 rows x 40 columns]"
            ]
          },
          "metadata": {
            "tags": []
          },
          "execution_count": 20
        }
      ]
    },
    {
      "cell_type": "code",
      "metadata": {
        "colab": {
          "base_uri": "https://localhost:8080/"
        },
        "id": "4H7AkZ4f-l1G",
        "outputId": "cbe32222-f00b-40f1-8ae4-bb72ae469b46"
      },
      "source": [
        "df.info()"
      ],
      "execution_count": 21,
      "outputs": [
        {
          "output_type": "stream",
          "text": [
            "<class 'pandas.core.frame.DataFrame'>\n",
            "RangeIndex: 4642539 entries, 0 to 4642538\n",
            "Data columns (total 40 columns):\n",
            " #   Column                 Dtype \n",
            "---  ------                 ----- \n",
            " 0   fecha_actualizacion    object\n",
            " 1   id_registro            object\n",
            " 2   origen                 int64 \n",
            " 3   sector                 int64 \n",
            " 4   entidad_um             int64 \n",
            " 5   sexo                   int64 \n",
            " 6   entidad_nac            int64 \n",
            " 7   entidad_res            int64 \n",
            " 8   municipio_res          int64 \n",
            " 9   tipo_paciente          int64 \n",
            " 10  fecha_ingreso          object\n",
            " 11  fecha_sintomas         object\n",
            " 12  fecha_def              object\n",
            " 13  intubado               int64 \n",
            " 14  neumonia               int64 \n",
            " 15  edad                   int64 \n",
            " 16  nacionalidad           int64 \n",
            " 17  embarazo               int64 \n",
            " 18  habla_lengua_indig     int64 \n",
            " 19  indigena               int64 \n",
            " 20  diabetes               int64 \n",
            " 21  epoc                   int64 \n",
            " 22  asma                   int64 \n",
            " 23  inmusupr               int64 \n",
            " 24  hipertension           int64 \n",
            " 25  otra_com               int64 \n",
            " 26  cardiovascular         int64 \n",
            " 27  obesidad               int64 \n",
            " 28  renal_cronica          int64 \n",
            " 29  tabaquismo             int64 \n",
            " 30  otro_caso              int64 \n",
            " 31  toma_muestra_lab       int64 \n",
            " 32  resultado_lab          int64 \n",
            " 33  toma_muestra_antigeno  int64 \n",
            " 34  resultado_antigeno     int64 \n",
            " 35  clasificacion_final    int64 \n",
            " 36  migrante               int64 \n",
            " 37  pais_nacionalidad      object\n",
            " 38  pais_origen            object\n",
            " 39  uci                    int64 \n",
            "dtypes: int64(33), object(7)\n",
            "memory usage: 1.4+ GB\n"
          ],
          "name": "stdout"
        }
      ]
    },
    {
      "cell_type": "code",
      "metadata": {
        "colab": {
          "base_uri": "https://localhost:8080/",
          "height": 397
        },
        "id": "KhQn19Lu-o-b",
        "outputId": "d2a31a83-965a-44af-82db-4126d07190c6"
      },
      "source": [
        "print(\"Tipos de\", df.groupby(['origen'])['origen'].count().sort_values(ascending=False))\r\n",
        "print(\"----------------------------------------------------------------------------------\")\r\n",
        "print(\"Porcentaje de valores nulos\", df.origen.isnull().sum() / df.shape[0] * 100.00)\r\n",
        "df.groupby(['origen'])['origen'].count().sort_values(ascending=False).plot(kind=\"bar\")\r\n",
        "plt.show()"
      ],
      "execution_count": 25,
      "outputs": [
        {
          "output_type": "stream",
          "text": [
            "Tipos de origen\n",
            "2    3218087\n",
            "1    1424452\n",
            "Name: origen, dtype: int64\n",
            "----------------------------------------------------------------------------------\n",
            "Porcentaje de valores nulos 0.0\n"
          ],
          "name": "stdout"
        },
        {
          "output_type": "display_data",
          "data": {
            "image/png": "[encoded data removed]",
            "text/plain": [
              "<Figure size 432x288 with 1 Axes>"
            ]
          },
          "metadata": {
            "tags": [],
            "needs_background": "light"
          }
        }
      ]
    },
    {
      "cell_type": "code",
      "metadata": {
        "colab": {
          "base_uri": "https://localhost:8080/",
          "height": 624
        },
        "id": "AAy8EzDl_Eai",
        "outputId": "cf3efac0-0ea9-4880-a8c2-3d4ae7295fe9"
      },
      "source": [
        "print(\"Tipos de\", df.groupby(['sector'])['sector'].count().sort_values(ascending=False))\r\n",
        "print(\"----------------------------------------------------------------------------------\")\r\n",
        "print(\"Porcentaje de valores nulos\", df.sector.isnull().sum() / df.shape[0] * 100.00)\r\n",
        "df.groupby(['sector'])['sector'].count().sort_values(ascending=False).plot(kind=\"bar\")\r\n",
        "plt.show()"
      ],
      "execution_count": 26,
      "outputs": [
        {
          "output_type": "stream",
          "text": [
            "Tipos de sector\n",
            "12    2987590\n",
            "4     1223627\n",
            "6      147690\n",
            "9      131351\n",
            "3       55697\n",
            "8       28808\n",
            "10      23176\n",
            "5       22855\n",
            "11      12647\n",
            "13       3499\n",
            "7        3240\n",
            "2        1484\n",
            "1         837\n",
            "99         38\n",
            "Name: sector, dtype: int64\n",
            "----------------------------------------------------------------------------------\n",
            "Porcentaje de valores nulos 0.0\n"
          ],
          "name": "stdout"
        },
        {
          "output_type": "display_data",
          "data": {
            "image/png": "[encoded data removed]",
            "text/plain": [
              "<Figure size 432x288 with 1 Axes>"
            ]
          },
          "metadata": {
            "tags": [],
            "needs_background": "light"
          }
        }
      ]
    },
    {
      "cell_type": "code",
      "metadata": {
        "colab": {
          "base_uri": "https://localhost:8080/",
          "height": 955
        },
        "id": "NmFaqL9f_WMQ",
        "outputId": "b7c6076c-6a24-403c-dfeb-7ce20bc37f23"
      },
      "source": [
        "print(\"Tipos de\", df.groupby(['entidad_um'])['entidad_um'].count().sort_values(ascending=False))\r\n",
        "print(\"----------------------------------------------------------------------------------\")\r\n",
        "print(\"Porcentaje de valores nulos\", df.entidad_um.isnull().sum() / df.shape[0] * 100.00)\r\n",
        "df.groupby(['entidad_um'])['entidad_um'].count().sort_values(ascending=False)[:11].plot(kind=\"bar\")\r\n",
        "plt.show()"
      ],
      "execution_count": 28,
      "outputs": [
        {
          "output_type": "stream",
          "text": [
            "Tipos de entidad_um\n",
            "9     1671107\n",
            "15     287823\n",
            "11     229567\n",
            "19     227393\n",
            "14     158951\n",
            "21     152061\n",
            "27     149984\n",
            "5      138160\n",
            "28     117265\n",
            "24     116410\n",
            "26     109700\n",
            "2      105896\n",
            "30      96254\n",
            "22      92822\n",
            "16      90848\n",
            "31      77805\n",
            "8       73859\n",
            "25      69669\n",
            "1       67537\n",
            "3       66025\n",
            "10      64986\n",
            "12      59048\n",
            "13      56337\n",
            "20      54442\n",
            "17      53309\n",
            "7       51248\n",
            "32      50035\n",
            "23      40727\n",
            "29      40452\n",
            "4       27931\n",
            "18      24054\n",
            "6       20834\n",
            "Name: entidad_um, dtype: int64\n",
            "----------------------------------------------------------------------------------\n",
            "Porcentaje de valores nulos 0.0\n"
          ],
          "name": "stdout"
        },
        {
          "output_type": "display_data",
          "data": {
            "image/png": "[encoded data removed]",
            "text/plain": [
              "<Figure size 432x288 with 1 Axes>"
            ]
          },
          "metadata": {
            "tags": [],
            "needs_background": "light"
          }
        }
      ]
    },
    {
      "cell_type": "code",
      "metadata": {
        "colab": {
          "base_uri": "https://localhost:8080/",
          "height": 397
        },
        "id": "FX0PRAcq_ghE",
        "outputId": "2f890473-08e6-4896-9125-947461fbad90"
      },
      "source": [
        "print(\"Tipos de\", df.groupby(['sexo'])['sexo'].count().sort_values(ascending=False))\r\n",
        "print(\"----------------------------------------------------------------------------------\")\r\n",
        "print(\"Porcentaje de valores nulos\", df.sexo.isnull().sum() / df.shape[0] * 100.00)\r\n",
        "df.groupby(['sexo'])['sexo'].count().sort_values(ascending=False)[:11].plot(kind=\"bar\")\r\n",
        "plt.show()"
      ],
      "execution_count": 29,
      "outputs": [
        {
          "output_type": "stream",
          "text": [
            "Tipos de sexo\n",
            "1    2407093\n",
            "2    2235446\n",
            "Name: sexo, dtype: int64\n",
            "----------------------------------------------------------------------------------\n",
            "Porcentaje de valores nulos 0.0\n"
          ],
          "name": "stdout"
        },
        {
          "output_type": "display_data",
          "data": {
            "image/png": "[encoded data removed]",
            "text/plain": [
              "<Figure size 432x288 with 1 Axes>"
            ]
          },
          "metadata": {
            "tags": [],
            "needs_background": "light"
          }
        }
      ]
    },
    {
      "cell_type": "code",
      "metadata": {
        "colab": {
          "base_uri": "https://localhost:8080/",
          "height": 974
        },
        "id": "-iSiD4Uo_uqW",
        "outputId": "0bc454dc-4666-4b7a-ba9a-3d65db0bad7f"
      },
      "source": [
        "print(\"Tipos de\", df.groupby(['entidad_nac'])['entidad_nac'].count().sort_values(ascending=False))\r\n",
        "print(\"----------------------------------------------------------------------------------\")\r\n",
        "print(\"Porcentaje de valores nulos\", df.entidad_nac.isnull().sum() / df.shape[0] * 100.00)\r\n",
        "df.groupby(['entidad_nac'])['entidad_nac'].count().sort_values(ascending=False)[:11].plot(kind=\"bar\")\r\n",
        "plt.show()"
      ],
      "execution_count": 30,
      "outputs": [
        {
          "output_type": "stream",
          "text": [
            "Tipos de entidad_nac\n",
            "9     1420981\n",
            "15     488885\n",
            "11     228985\n",
            "19     189766\n",
            "14     161755\n",
            "21     155824\n",
            "30     153407\n",
            "27     147855\n",
            "5      139120\n",
            "24     120936\n",
            "28     112839\n",
            "16     112135\n",
            "26     105536\n",
            "12      89079\n",
            "20      89049\n",
            "25      88914\n",
            "31      78506\n",
            "10      71663\n",
            "8       67177\n",
            "13      66721\n",
            "7       66327\n",
            "2       61646\n",
            "22      60555\n",
            "1       59669\n",
            "32      57910\n",
            "17      49039\n",
            "29      45476\n",
            "3       39520\n",
            "18      28352\n",
            "4       25624\n",
            "99      21594\n",
            "23      20954\n",
            "6       16740\n",
            "Name: entidad_nac, dtype: int64\n",
            "----------------------------------------------------------------------------------\n",
            "Porcentaje de valores nulos 0.0\n"
          ],
          "name": "stdout"
        },
        {
          "output_type": "display_data",
          "data": {
            "image/png": "[encoded data removed]",
            "text/plain": [
              "<Figure size 432x288 with 1 Axes>"
            ]
          },
          "metadata": {
            "tags": [],
            "needs_background": "light"
          }
        }
      ]
    },
    {
      "cell_type": "code",
      "metadata": {
        "colab": {
          "base_uri": "https://localhost:8080/",
          "height": 955
        },
        "id": "WEDoD55J_4cn",
        "outputId": "a616a9d6-f315-4767-96c7-0ad3063bb806"
      },
      "source": [
        "print(\"Tipos de\", df.groupby(['entidad_res'])['entidad_res'].count().sort_values(ascending=False))\r\n",
        "print(\"----------------------------------------------------------------------------------\")\r\n",
        "print(\"Porcentaje de valores nulos\", df.entidad_res.isnull().sum() / df.shape[0] * 100.00)\r\n",
        "df.groupby(['entidad_res'])['entidad_res'].count().sort_values(ascending=False)[:11].plot(kind=\"bar\")\r\n",
        "plt.show()"
      ],
      "execution_count": 31,
      "outputs": [
        {
          "output_type": "stream",
          "text": [
            "Tipos de entidad_res\n",
            "9     1435147\n",
            "15     513693\n",
            "11     230082\n",
            "19     226387\n",
            "14     159259\n",
            "27     148759\n",
            "21     144772\n",
            "5      138442\n",
            "28     117463\n",
            "24     115937\n",
            "26     109640\n",
            "2      106697\n",
            "30     100433\n",
            "22      92568\n",
            "16      91389\n",
            "31      77785\n",
            "8       74162\n",
            "25      69783\n",
            "1       67421\n",
            "3       65970\n",
            "10      65112\n",
            "12      60609\n",
            "13      60042\n",
            "20      55520\n",
            "17      54369\n",
            "7       52602\n",
            "32      50240\n",
            "29      45152\n",
            "23      41205\n",
            "4       26933\n",
            "18      24378\n",
            "6       20588\n",
            "Name: entidad_res, dtype: int64\n",
            "----------------------------------------------------------------------------------\n",
            "Porcentaje de valores nulos 0.0\n"
          ],
          "name": "stdout"
        },
        {
          "output_type": "display_data",
          "data": {
            "image/png": "[encoded data removed]",
            "text/plain": [
              "<Figure size 432x288 with 1 Axes>"
            ]
          },
          "metadata": {
            "tags": [],
            "needs_background": "light"
          }
        }
      ]
    },
    {
      "cell_type": "code",
      "metadata": {
        "colab": {
          "base_uri": "https://localhost:8080/",
          "height": 559
        },
        "id": "OcK9610WAEC9",
        "outputId": "18d2f91a-4ea4-4637-a959-1c8dc7d65c98"
      },
      "source": [
        "print(\"Tipos de\", df.groupby(['municipio_res'])['municipio_res'].count().sort_values(ascending=False))\r\n",
        "print(\"----------------------------------------------------------------------------------\")\r\n",
        "print(\"Porcentaje de valores nulos\", df.municipio_res.isnull().sum() / df.shape[0] * 100.00)\r\n",
        "df.groupby(['municipio_res'])['municipio_res'].count().sort_values(ascending=False)[:11].plot(kind=\"bar\")\r\n",
        "plt.show()"
      ],
      "execution_count": 32,
      "outputs": [
        {
          "output_type": "stream",
          "text": [
            "Tipos de municipio_res\n",
            "7      301388\n",
            "5      241504\n",
            "10     173628\n",
            "4      171867\n",
            "2      169368\n",
            "        ...  \n",
            "383         1\n",
            "532         1\n",
            "466         1\n",
            "465         1\n",
            "429         1\n",
            "Name: municipio_res, Length: 536, dtype: int64\n",
            "----------------------------------------------------------------------------------\n",
            "Porcentaje de valores nulos 0.0\n"
          ],
          "name": "stdout"
        },
        {
          "output_type": "display_data",
          "data": {
            "image/png": "[encoded data removed]",
            "text/plain": [
              "<Figure size 432x288 with 1 Axes>"
            ]
          },
          "metadata": {
            "tags": [],
            "needs_background": "light"
          }
        }
      ]
    },
    {
      "cell_type": "code",
      "metadata": {
        "colab": {
          "base_uri": "https://localhost:8080/"
        },
        "id": "Vtx4I5x-AYFj",
        "outputId": "0728aacf-a8e6-4d30-a4c7-97f24c6ff432"
      },
      "source": [
        "df.columns"
      ],
      "execution_count": 33,
      "outputs": [
        {
          "output_type": "execute_result",
          "data": {
            "text/plain": [
              "Index(['fecha_actualizacion', 'id_registro', 'origen', 'sector', 'entidad_um',\n",
              "       'sexo', 'entidad_nac', 'entidad_res', 'municipio_res', 'tipo_paciente',\n",
              "       'fecha_ingreso', 'fecha_sintomas', 'fecha_def', 'intubado', 'neumonia',\n",
              "       'edad', 'nacionalidad', 'embarazo', 'habla_lengua_indig', 'indigena',\n",
              "       'diabetes', 'epoc', 'asma', 'inmusupr', 'hipertension', 'otra_com',\n",
              "       'cardiovascular', 'obesidad', 'renal_cronica', 'tabaquismo',\n",
              "       'otro_caso', 'toma_muestra_lab', 'resultado_lab',\n",
              "       'toma_muestra_antigeno', 'resultado_antigeno', 'clasificacion_final',\n",
              "       'migrante', 'pais_nacionalidad', 'pais_origen', 'uci'],\n",
              "      dtype='object')"
            ]
          },
          "metadata": {
            "tags": []
          },
          "execution_count": 33
        }
      ]
    },
    {
      "cell_type": "code",
      "metadata": {
        "colab": {
          "base_uri": "https://localhost:8080/",
          "height": 398
        },
        "id": "Vfj4cUmfARwF",
        "outputId": "fb6af905-9ab5-4a8a-f98d-b29ee26c99c5"
      },
      "source": [
        "print(\"Tipos de\", df.groupby(['tipo_paciente'])['tipo_paciente'].count().sort_values(ascending=False))\r\n",
        "print(\"----------------------------------------------------------------------------------\")\r\n",
        "print(\"Porcentaje de valores nulos\", df.tipo_paciente.isnull().sum() / df.shape[0] * 100.00)\r\n",
        "df.groupby(['tipo_paciente'])['tipo_paciente'].count().sort_values(ascending=False)[:11].plot(kind=\"bar\")\r\n",
        "plt.show()"
      ],
      "execution_count": 34,
      "outputs": [
        {
          "output_type": "stream",
          "text": [
            "Tipos de tipo_paciente\n",
            "1    4055610\n",
            "2     586929\n",
            "Name: tipo_paciente, dtype: int64\n",
            "----------------------------------------------------------------------------------\n",
            "Porcentaje de valores nulos 0.0\n"
          ],
          "name": "stdout"
        },
        {
          "output_type": "display_data",
          "data": {
            "image/png": "[encoded data removed]",
            "text/plain": [
              "<Figure size 432x288 with 1 Axes>"
            ]
          },
          "metadata": {
            "tags": [],
            "needs_background": "light"
          }
        }
      ]
    },
    {
      "cell_type": "code",
      "metadata": {
        "colab": {
          "base_uri": "https://localhost:8080/",
          "height": 440
        },
        "id": "Fh8kDP5aAgRs",
        "outputId": "41a202ce-5119-4d50-9c4c-a534016f92ff"
      },
      "source": [
        "print(\"Tipos de\", df.groupby(['intubado'])['intubado'].count().sort_values(ascending=False))\r\n",
        "print(\"----------------------------------------------------------------------------------\")\r\n",
        "print(\"Porcentaje de valores nulos\", df.intubado.isnull().sum() / df.shape[0] * 100.00)\r\n",
        "df.groupby(['intubado'])['intubado'].count().sort_values(ascending=False)[:11].plot(kind=\"bar\")\r\n",
        "plt.show()"
      ],
      "execution_count": 35,
      "outputs": [
        {
          "output_type": "stream",
          "text": [
            "Tipos de intubado\n",
            "97    4055610\n",
            "2      512412\n",
            "1       67501\n",
            "99       7016\n",
            "Name: intubado, dtype: int64\n",
            "----------------------------------------------------------------------------------\n",
            "Porcentaje de valores nulos 0.0\n"
          ],
          "name": "stdout"
        },
        {
          "output_type": "display_data",
          "data": {
            "image/png": "[encoded data removed]",
            "text/plain": [
              "<Figure size 432x288 with 1 Axes>"
            ]
          },
          "metadata": {
            "tags": [],
            "needs_background": "light"
          }
        }
      ]
    },
    {
      "cell_type": "code",
      "metadata": {
        "colab": {
          "base_uri": "https://localhost:8080/",
          "height": 422
        },
        "id": "YJGAEAx8AuHt",
        "outputId": "3ea985c4-6470-4f80-fc17-768b18951609"
      },
      "source": [
        "print(\"Tipos de\", df.groupby(['neumonia'])['neumonia'].count().sort_values(ascending=False))\r\n",
        "print(\"----------------------------------------------------------------------------------\")\r\n",
        "print(\"Porcentaje de valores nulos\", df.neumonia.isnull().sum() / df.shape[0] * 100.00)\r\n",
        "df.groupby(['neumonia'])['neumonia'].count().sort_values(ascending=False)[:11].plot(kind=\"bar\")\r\n",
        "plt.show()"
      ],
      "execution_count": 36,
      "outputs": [
        {
          "output_type": "stream",
          "text": [
            "Tipos de neumonia\n",
            "2     4210275\n",
            "1      414264\n",
            "99      18000\n",
            "Name: neumonia, dtype: int64\n",
            "----------------------------------------------------------------------------------\n",
            "Porcentaje de valores nulos 0.0\n"
          ],
          "name": "stdout"
        },
        {
          "output_type": "display_data",
          "data": {
            "image/png": "[encoded data removed]",
            "text/plain": [
              "<Figure size 432x288 with 1 Axes>"
            ]
          },
          "metadata": {
            "tags": [],
            "needs_background": "light"
          }
        }
      ]
    },
    {
      "cell_type": "code",
      "metadata": {
        "colab": {
          "base_uri": "https://localhost:8080/",
          "height": 558
        },
        "id": "zTuP_rPFA6zZ",
        "outputId": "64f35349-5e9b-4ac2-d15d-62333391dbcc"
      },
      "source": [
        "print(\"Tipos de\", df.groupby(['edad'])['edad'].count().sort_values(ascending=False))\r\n",
        "print(\"----------------------------------------------------------------------------------\")\r\n",
        "print(\"Porcentaje de valores nulos\", df.edad.isnull().sum() / df.shape[0] * 100.00)\r\n",
        "df.groupby(['edad'])['edad'].count().sort_values(ascending=False)[:11].plot(kind=\"bar\")\r\n",
        "plt.show()"
      ],
      "execution_count": 37,
      "outputs": [
        {
          "output_type": "stream",
          "text": [
            "Tipos de edad\n",
            "30     116772\n",
            "28     115072\n",
            "29     113718\n",
            "27     112839\n",
            "31     112119\n",
            "        ...  \n",
            "111        12\n",
            "119        10\n",
            "114        10\n",
            "113        10\n",
            "121         5\n",
            "Name: edad, Length: 122, dtype: int64\n",
            "----------------------------------------------------------------------------------\n",
            "Porcentaje de valores nulos 0.0\n"
          ],
          "name": "stdout"
        },
        {
          "output_type": "display_data",
          "data": {
            "image/png": "[encoded data removed]",
            "text/plain": [
              "<Figure size 432x288 with 1 Axes>"
            ]
          },
          "metadata": {
            "tags": [],
            "needs_background": "light"
          }
        }
      ]
    },
    {
      "cell_type": "code",
      "metadata": {
        "colab": {
          "base_uri": "https://localhost:8080/",
          "height": 397
        },
        "id": "Aw9hnO2TBHEB",
        "outputId": "d23c68d2-0aff-47a4-819f-4afab7985ef7"
      },
      "source": [
        "print(\"Tipos de\", df.groupby(['nacionalidad'])['nacionalidad'].count().sort_values(ascending=False))\r\n",
        "print(\"----------------------------------------------------------------------------------\")\r\n",
        "print(\"Porcentaje de valores nulos\", df.nacionalidad.isnull().sum() / df.shape[0] * 100.00)\r\n",
        "df.groupby(['nacionalidad'])['nacionalidad'].count().sort_values(ascending=False)[:11].plot(kind=\"bar\")\r\n",
        "plt.show()"
      ],
      "execution_count": 38,
      "outputs": [
        {
          "output_type": "stream",
          "text": [
            "Tipos de nacionalidad\n",
            "1    4620972\n",
            "2      21567\n",
            "Name: nacionalidad, dtype: int64\n",
            "----------------------------------------------------------------------------------\n",
            "Porcentaje de valores nulos 0.0\n"
          ],
          "name": "stdout"
        },
        {
          "output_type": "display_data",
          "data": {
            "image/png": "[encoded data removed]",
            "text/plain": [
              "<Figure size 432x288 with 1 Axes>"
            ]
          },
          "metadata": {
            "tags": [],
            "needs_background": "light"
          }
        }
      ]
    },
    {
      "cell_type": "code",
      "metadata": {
        "colab": {
          "base_uri": "https://localhost:8080/"
        },
        "id": "6f73hSG7BdFz",
        "outputId": "75c38508-897a-4382-df15-1f142cec2f0b"
      },
      "source": [
        "df.columns"
      ],
      "execution_count": 39,
      "outputs": [
        {
          "output_type": "execute_result",
          "data": {
            "text/plain": [
              "Index(['fecha_actualizacion', 'id_registro', 'origen', 'sector', 'entidad_um',\n",
              "       'sexo', 'entidad_nac', 'entidad_res', 'municipio_res', 'tipo_paciente',\n",
              "       'fecha_ingreso', 'fecha_sintomas', 'fecha_def', 'intubado', 'neumonia',\n",
              "       'edad', 'nacionalidad', 'embarazo', 'habla_lengua_indig', 'indigena',\n",
              "       'diabetes', 'epoc', 'asma', 'inmusupr', 'hipertension', 'otra_com',\n",
              "       'cardiovascular', 'obesidad', 'renal_cronica', 'tabaquismo',\n",
              "       'otro_caso', 'toma_muestra_lab', 'resultado_lab',\n",
              "       'toma_muestra_antigeno', 'resultado_antigeno', 'clasificacion_final',\n",
              "       'migrante', 'pais_nacionalidad', 'pais_origen', 'uci'],\n",
              "      dtype='object')"
            ]
          },
          "metadata": {
            "tags": []
          },
          "execution_count": 39
        }
      ]
    },
    {
      "cell_type": "code",
      "metadata": {
        "colab": {
          "base_uri": "https://localhost:8080/",
          "height": 458
        },
        "id": "imsODCUdBgqG",
        "outputId": "f577844c-25f6-4257-d0b4-f02a3d6a3ea3"
      },
      "source": [
        "print(\"Tipos de\", df.groupby(['embarazo'])['embarazo'].count().sort_values(ascending=False))\r\n",
        "print(\"----------------------------------------------------------------------------------\")\r\n",
        "print(\"Porcentaje de valores nulos\", df.embarazo.isnull().sum() / df.shape[0] * 100.00)\r\n",
        "df.groupby(['embarazo'])['embarazo'].count().sort_values(ascending=False)[:11].plot(kind=\"bar\")\r\n",
        "plt.show()"
      ],
      "execution_count": 40,
      "outputs": [
        {
          "output_type": "stream",
          "text": [
            "Tipos de embarazo\n",
            "2     2355801\n",
            "97    2235446\n",
            "1       35043\n",
            "98      16246\n",
            "99          3\n",
            "Name: embarazo, dtype: int64\n",
            "----------------------------------------------------------------------------------\n",
            "Porcentaje de valores nulos 0.0\n"
          ],
          "name": "stdout"
        },
        {
          "output_type": "display_data",
          "data": {
            "image/png": "[encoded data removed]",
            "text/plain": [
              "<Figure size 432x288 with 1 Axes>"
            ]
          },
          "metadata": {
            "tags": [],
            "needs_background": "light"
          }
        }
      ]
    },
    {
      "cell_type": "code",
      "metadata": {
        "colab": {
          "base_uri": "https://localhost:8080/",
          "height": 423
        },
        "id": "Rhyk_MkyBoKr",
        "outputId": "7e863944-23e9-4e62-abda-ab9981fd8e8a"
      },
      "source": [
        "print(\"Tipos de\", df.groupby(['habla_lengua_indig'])['habla_lengua_indig'].count().sort_values(ascending=False))\r\n",
        "print(\"----------------------------------------------------------------------------------\")\r\n",
        "print(\"Porcentaje de valores nulos\", df.habla_lengua_indig.isnull().sum() / df.shape[0] * 100.00)\r\n",
        "df.groupby(['habla_lengua_indig'])['habla_lengua_indig'].count().sort_values(ascending=False)[:11].plot(kind=\"bar\")\r\n",
        "plt.show()"
      ],
      "execution_count": 41,
      "outputs": [
        {
          "output_type": "stream",
          "text": [
            "Tipos de habla_lengua_indig\n",
            "2     4392708\n",
            "99     220811\n",
            "1       29020\n",
            "Name: habla_lengua_indig, dtype: int64\n",
            "----------------------------------------------------------------------------------\n",
            "Porcentaje de valores nulos 0.0\n"
          ],
          "name": "stdout"
        },
        {
          "output_type": "display_data",
          "data": {
            "image/png": "[encoded data removed]",
            "text/plain": [
              "<Figure size 432x288 with 1 Axes>"
            ]
          },
          "metadata": {
            "tags": [],
            "needs_background": "light"
          }
        }
      ]
    },
    {
      "cell_type": "code",
      "metadata": {
        "colab": {
          "base_uri": "https://localhost:8080/",
          "height": 422
        },
        "id": "oOpQ3_xEB1KA",
        "outputId": "de26931c-2ea0-4134-bedb-9c1578721c6d"
      },
      "source": [
        "print(\"Tipos de\", df.groupby(['indigena'])['indigena'].count().sort_values(ascending=False))\r\n",
        "print(\"----------------------------------------------------------------------------------\")\r\n",
        "print(\"Porcentaje de valores nulos\", df.indigena.isnull().sum() / df.shape[0] * 100.00)\r\n",
        "df.groupby(['indigena'])['indigena'].count().sort_values(ascending=False)[:11].plot(kind=\"bar\")\r\n",
        "plt.show()"
      ],
      "execution_count": 42,
      "outputs": [
        {
          "output_type": "stream",
          "text": [
            "Tipos de indigena\n",
            "2     4385758\n",
            "99     216651\n",
            "1       40130\n",
            "Name: indigena, dtype: int64\n",
            "----------------------------------------------------------------------------------\n",
            "Porcentaje de valores nulos 0.0\n"
          ],
          "name": "stdout"
        },
        {
          "output_type": "display_data",
          "data": {
            "image/png": "[encoded data removed]",
            "text/plain": [
              "<Figure size 432x288 with 1 Axes>"
            ]
          },
          "metadata": {
            "tags": [],
            "needs_background": "light"
          }
        }
      ]
    },
    {
      "cell_type": "code",
      "metadata": {
        "colab": {
          "base_uri": "https://localhost:8080/",
          "height": 422
        },
        "id": "0Hyw_hRTCMHt",
        "outputId": "30851300-6367-4a5d-b460-a908b554b064"
      },
      "source": [
        "print(\"Tipos de\", df.groupby(['diabetes'])['diabetes'].count().sort_values(ascending=False))\r\n",
        "print(\"----------------------------------------------------------------------------------\")\r\n",
        "print(\"Porcentaje de valores nulos\", df.diabetes.isnull().sum() / df.shape[0] * 100.00)\r\n",
        "df.groupby(['diabetes'])['diabetes'].count().sort_values(ascending=False)[:11].plot(kind=\"bar\")\r\n",
        "plt.show()"
      ],
      "execution_count": 43,
      "outputs": [
        {
          "output_type": "stream",
          "text": [
            "Tipos de diabetes\n",
            "2     4140806\n",
            "1      489980\n",
            "98      11753\n",
            "Name: diabetes, dtype: int64\n",
            "----------------------------------------------------------------------------------\n",
            "Porcentaje de valores nulos 0.0\n"
          ],
          "name": "stdout"
        },
        {
          "output_type": "display_data",
          "data": {
            "image/png": "[encoded data removed]",
            "text/plain": [
              "<Figure size 432x288 with 1 Axes>"
            ]
          },
          "metadata": {
            "tags": [],
            "needs_background": "light"
          }
        }
      ]
    },
    {
      "cell_type": "code",
      "metadata": {
        "colab": {
          "base_uri": "https://localhost:8080/"
        },
        "id": "Kw5BTVbMCd4C",
        "outputId": "49af9609-a15d-48d8-b9d9-ec50240155da"
      },
      "source": [
        "df.columns"
      ],
      "execution_count": 44,
      "outputs": [
        {
          "output_type": "execute_result",
          "data": {
            "text/plain": [
              "Index(['fecha_actualizacion', 'id_registro', 'origen', 'sector', 'entidad_um',\n",
              "       'sexo', 'entidad_nac', 'entidad_res', 'municipio_res', 'tipo_paciente',\n",
              "       'fecha_ingreso', 'fecha_sintomas', 'fecha_def', 'intubado', 'neumonia',\n",
              "       'edad', 'nacionalidad', 'embarazo', 'habla_lengua_indig', 'indigena',\n",
              "       'diabetes', 'epoc', 'asma', 'inmusupr', 'hipertension', 'otra_com',\n",
              "       'cardiovascular', 'obesidad', 'renal_cronica', 'tabaquismo',\n",
              "       'otro_caso', 'toma_muestra_lab', 'resultado_lab',\n",
              "       'toma_muestra_antigeno', 'resultado_antigeno', 'clasificacion_final',\n",
              "       'migrante', 'pais_nacionalidad', 'pais_origen', 'uci'],\n",
              "      dtype='object')"
            ]
          },
          "metadata": {
            "tags": []
          },
          "execution_count": 44
        }
      ]
    },
    {
      "cell_type": "code",
      "metadata": {
        "colab": {
          "base_uri": "https://localhost:8080/",
          "height": 422
        },
        "id": "66uJLSwYCqTQ",
        "outputId": "41ff23ec-9042-4bd6-ecad-d857b9992e87"
      },
      "source": [
        "print(\"Tipos de\", df.groupby(['epoc'])['epoc'].count().sort_values(ascending=False))\r\n",
        "print(\"----------------------------------------------------------------------------------\")\r\n",
        "print(\"Porcentaje de valores nulos\", df.epoc.isnull().sum() / df.shape[0] * 100.00)\r\n",
        "df.groupby(['epoc'])['epoc'].count().sort_values(ascending=False)[:11].plot(kind=\"bar\")\r\n",
        "plt.show()"
      ],
      "execution_count": 45,
      "outputs": [
        {
          "output_type": "stream",
          "text": [
            "Tipos de epoc\n",
            "2     4585922\n",
            "1       45893\n",
            "98      10724\n",
            "Name: epoc, dtype: int64\n",
            "----------------------------------------------------------------------------------\n",
            "Porcentaje de valores nulos 0.0\n"
          ],
          "name": "stdout"
        },
        {
          "output_type": "display_data",
          "data": {
            "image/png": "[encoded data removed]",
            "text/plain": [
              "<Figure size 432x288 with 1 Axes>"
            ]
          },
          "metadata": {
            "tags": [],
            "needs_background": "light"
          }
        }
      ]
    },
    {
      "cell_type": "code",
      "metadata": {
        "id": "ouj4wv1QCwVx"
      },
      "source": [
        ""
      ],
      "execution_count": null,
      "outputs": []
    }
  ]
}